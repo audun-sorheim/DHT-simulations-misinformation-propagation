{
 "cells": [
  {
   "cell_type": "code",
   "execution_count": 17,
   "id": "32670bd8",
   "metadata": {},
   "outputs": [
    {
     "ename": "ImportError",
     "evalue": "cannot import name 'truthfulness' from 'metrics' (c:\\Users\\audso\\OneDrive\\Dokumenter\\GitHub\\DHT-simulations-misinformation-propagation\\metrics.py)",
     "output_type": "error",
     "traceback": [
      "\u001b[1;31m---------------------------------------------------------------------------\u001b[0m",
      "\u001b[1;31mImportError\u001b[0m                               Traceback (most recent call last)",
      "Cell \u001b[1;32mIn[17], line 1\u001b[0m\n\u001b[1;32m----> 1\u001b[0m \u001b[38;5;28;01mfrom\u001b[39;00m \u001b[38;5;21;01mmetrics\u001b[39;00m \u001b[38;5;28;01mimport\u001b[39;00m truthfulness, cognitive_dissonance\n\u001b[0;32m      3\u001b[0m \u001b[38;5;66;03m# Quick test\u001b[39;00m\n\u001b[0;32m      4\u001b[0m \u001b[38;5;28;01mimport\u001b[39;00m \u001b[38;5;21;01mnumpy\u001b[39;00m \u001b[38;5;28;01mas\u001b[39;00m \u001b[38;5;21;01mnp\u001b[39;00m\n",
      "\u001b[1;31mImportError\u001b[0m: cannot import name 'truthfulness' from 'metrics' (c:\\Users\\audso\\OneDrive\\Dokumenter\\GitHub\\DHT-simulations-misinformation-propagation\\metrics.py)"
     ]
    }
   ],
   "source": [
    "from metrics import truthfulness, cognitive_dissonance\n",
    "\n",
    "# Quick test\n",
    "import numpy as np\n",
    "q = np.random.rand(2,3,4,5)\n",
    "p = np.random.rand(2,3,4,5)\n",
    "\n",
    "print(truthfulness(q, 1))\n",
    "print(cognitive_dissonance(q, p, 1))\n"
   ]
  },
  {
   "cell_type": "code",
   "execution_count": 15,
   "id": "67395285",
   "metadata": {},
   "outputs": [
    {
     "ename": "ImportError",
     "evalue": "cannot import name 'truthfulness' from 'metrics' (c:\\Users\\audso\\OneDrive\\Dokumenter\\GitHub\\DHT-simulations-misinformation-propagation\\metrics.py)",
     "output_type": "error",
     "traceback": [
      "\u001b[1;31m---------------------------------------------------------------------------\u001b[0m",
      "\u001b[1;31mImportError\u001b[0m                               Traceback (most recent call last)",
      "Cell \u001b[1;32mIn[15], line 3\u001b[0m\n\u001b[0;32m      1\u001b[0m \u001b[38;5;28;01mimport\u001b[39;00m \u001b[38;5;21;01mnumpy\u001b[39;00m \u001b[38;5;28;01mas\u001b[39;00m \u001b[38;5;21;01mnp\u001b[39;00m\n\u001b[0;32m      2\u001b[0m \u001b[38;5;28;01mimport\u001b[39;00m \u001b[38;5;21;01mmatplotlib\u001b[39;00m\u001b[38;5;21;01m.\u001b[39;00m\u001b[38;5;21;01mpyplot\u001b[39;00m \u001b[38;5;28;01mas\u001b[39;00m \u001b[38;5;21;01mplt\u001b[39;00m\n\u001b[1;32m----> 3\u001b[0m \u001b[38;5;28;01mfrom\u001b[39;00m \u001b[38;5;21;01mmetrics\u001b[39;00m \u001b[38;5;28;01mimport\u001b[39;00m truthfulness, cognitive_dissonance\n",
      "\u001b[1;31mImportError\u001b[0m: cannot import name 'truthfulness' from 'metrics' (c:\\Users\\audso\\OneDrive\\Dokumenter\\GitHub\\DHT-simulations-misinformation-propagation\\metrics.py)"
     ]
    }
   ],
   "source": [
    "import numpy as np\n",
    "import matplotlib.pyplot as plt\n",
    "from metrics import truthfulness, cognitive_dissonance"
   ]
  },
  {
   "cell_type": "code",
   "execution_count": 9,
   "id": "9aee73d7",
   "metadata": {},
   "outputs": [
    {
     "ename": "NameError",
     "evalue": "name 'truthfulness' is not defined",
     "output_type": "error",
     "traceback": [
      "\u001b[1;31m---------------------------------------------------------------------------\u001b[0m",
      "\u001b[1;31mNameError\u001b[0m                                 Traceback (most recent call last)",
      "Cell \u001b[1;32mIn[9], line 4\u001b[0m\n\u001b[0;32m      2\u001b[0m q_0 \u001b[38;5;241m=\u001b[39m beliefs_no_mega_node[\u001b[38;5;124m\"\u001b[39m\u001b[38;5;124mprivate\u001b[39m\u001b[38;5;124m\"\u001b[39m]\n\u001b[0;32m      3\u001b[0m p_0 \u001b[38;5;241m=\u001b[39m beliefs_no_mega_node[\u001b[38;5;124m\"\u001b[39m\u001b[38;5;124mpublic\u001b[39m\u001b[38;5;124m\"\u001b[39m]\n\u001b[1;32m----> 4\u001b[0m T_0 \u001b[38;5;241m=\u001b[39m truthfulness(q_0, \u001b[38;5;241m3\u001b[39m)\n\u001b[0;32m      5\u001b[0m t \u001b[38;5;241m=\u001b[39m np\u001b[38;5;241m.\u001b[39marange(\u001b[38;5;241m1\u001b[39m, \u001b[38;5;28mlen\u001b[39m(T_0))\n\u001b[0;32m      7\u001b[0m plt\u001b[38;5;241m.\u001b[39mfigure()\n",
      "\u001b[1;31mNameError\u001b[0m: name 'truthfulness' is not defined"
     ]
    }
   ],
   "source": [
    "beliefs_no_mega_node = np.load(r\"DHT_k100_BA_directed.npz\")\n",
    "q_0 = beliefs_no_mega_node[\"private\"]\n",
    "p_0 = beliefs_no_mega_node[\"public\"]\n",
    "T_0 = truthfulness(q_0, 3)\n",
    "t = np.arange(1, len(T_0))\n",
    "\n",
    "plt.figure()\n",
    "plt.plot(t, T_0[1::], label=r\"mg$_a$=0, mg$_b$=0\", zorder=5)\n",
    "# plt.plot(t, T_true[1::], label=r\"mg$_a$=0, mg$_b$=1\")\n",
    "# plt.plot(t, T_consp[1::], label=r\"mg$_a$=1, mg$_b$=0\")\n",
    "# plt.plot(t, T_2[1::], label=r\"mg$_a$=1, mg$_b$=1\")\n",
    "plt.grid()\n",
    "plt.xlim(0, np.max(t))\n",
    "plt.xticks(np.arange(0, np.max(t)+1, 25))\n",
    "plt.yticks(np.arange(0, 1.1, 0.1))\n",
    "plt.ylim(0, 1)\n",
    "plt.legend()\n",
    "plt.xlabel(\"time-steps\")\n",
    "plt.ylabel(r\"Truthfulness, $\\tau$\")"
   ]
  },
  {
   "cell_type": "code",
   "execution_count": null,
   "id": "eafbcd8f",
   "metadata": {},
   "outputs": [],
   "source": []
  }
 ],
 "metadata": {
  "kernelspec": {
   "display_name": "base",
   "language": "python",
   "name": "python3"
  },
  "language_info": {
   "codemirror_mode": {
    "name": "ipython",
    "version": 3
   },
   "file_extension": ".py",
   "mimetype": "text/x-python",
   "name": "python",
   "nbconvert_exporter": "python",
   "pygments_lexer": "ipython3",
   "version": "3.11.5"
  }
 },
 "nbformat": 4,
 "nbformat_minor": 5
}
